{
 "cells": [
  {
   "cell_type": "markdown",
   "metadata": {},
   "source": [
    "# GUI Label Tool\n",
    ">##### Reference:&emsp;曾韋翔仁兄"
   ]
  },
  {
   "cell_type": "markdown",
   "metadata": {},
   "source": [
    "## Table of Contents\n",
    "* [1. Import Packages](#1.-Import-Packages)\n",
    "* [2. Read CSV File](#2.-Read-CSV-File)\n",
    "* [3. GUI Tool](#3.-GUI-Tool)\n",
    "* [4. Read label CSV File](#4.-Read-label-CSV-File)\n",
    "* [5. Check Label Overview](#5.-Check-Label-Overview)\n",
    "* [6. Threshold Controling](#6.-Threshold-Controling)"
   ]
  },
  {
   "cell_type": "markdown",
   "metadata": {},
   "source": [
    "## 1. Import Packages\n",
    "[Go back to the Table of Contents](#Table-of-Contents)"
   ]
  },
  {
   "cell_type": "code",
   "execution_count": 1,
   "metadata": {},
   "outputs": [],
   "source": [
    "import tkinter as tk\n",
    "from PIL import Image, ImageTk\n",
    "import pandas as pd\n",
    "from tkinter import font as tkFont  # for convenience\n",
    "import os\n",
    "import matplotlib.pyplot as plt"
   ]
  },
  {
   "cell_type": "markdown",
   "metadata": {},
   "source": [
    "## 2. Read CSV File\n",
    "[Go back to the Table of Contents](#Table-of-Contents)"
   ]
  },
  {
   "cell_type": "code",
   "execution_count": 2,
   "metadata": {},
   "outputs": [],
   "source": [
    "df_sample = pd.read_csv('./data_result_df.csv')  "
   ]
  },
  {
   "cell_type": "code",
   "execution_count": 3,
   "metadata": {},
   "outputs": [],
   "source": [
    "# 讀取抽樣樣本清單\n",
    "df_sample = df_sample[df_sample.blue_color<0.001]\n",
    "df_sample = df_sample.reset_index(drop = True)"
   ]
  },
  {
   "cell_type": "code",
   "execution_count": 4,
   "metadata": {},
   "outputs": [
    {
     "data": {
      "text/html": [
       "<div>\n",
       "<style scoped>\n",
       "    .dataframe tbody tr th:only-of-type {\n",
       "        vertical-align: middle;\n",
       "    }\n",
       "\n",
       "    .dataframe tbody tr th {\n",
       "        vertical-align: top;\n",
       "    }\n",
       "\n",
       "    .dataframe thead th {\n",
       "        text-align: right;\n",
       "    }\n",
       "</style>\n",
       "<table border=\"1\" class=\"dataframe\">\n",
       "  <thead>\n",
       "    <tr style=\"text-align: right;\">\n",
       "      <th></th>\n",
       "      <th>path</th>\n",
       "      <th>blue_color</th>\n",
       "    </tr>\n",
       "  </thead>\n",
       "  <tbody>\n",
       "    <tr>\n",
       "      <th>0</th>\n",
       "      <td>//Srvappweb-t/f$/AA/P2_OK_P4\\AB002-AA0769076.jpg</td>\n",
       "      <td>0.000124</td>\n",
       "    </tr>\n",
       "    <tr>\n",
       "      <th>1</th>\n",
       "      <td>//Srvappweb-t/f$/AA/P2_OK_P4\\AB002-AA0769077.jpg</td>\n",
       "      <td>0.000989</td>\n",
       "    </tr>\n",
       "    <tr>\n",
       "      <th>2</th>\n",
       "      <td>//Srvappweb-t/f$/AA/P2_OK_P4\\AB002-AA0769078.jpg</td>\n",
       "      <td>0.000040</td>\n",
       "    </tr>\n",
       "    <tr>\n",
       "      <th>3</th>\n",
       "      <td>//Srvappweb-t/f$/AA/P2_OK_P4\\AB002-AA0816279.jpg</td>\n",
       "      <td>0.000215</td>\n",
       "    </tr>\n",
       "    <tr>\n",
       "      <th>4</th>\n",
       "      <td>//Srvappweb-t/f$/AA/P2_OK_P4\\AB002-AA0842141.jpg</td>\n",
       "      <td>0.000532</td>\n",
       "    </tr>\n",
       "  </tbody>\n",
       "</table>\n",
       "</div>"
      ],
      "text/plain": [
       "                                               path  blue_color\n",
       "0  //Srvappweb-t/f$/AA/P2_OK_P4\\AB002-AA0769076.jpg    0.000124\n",
       "1  //Srvappweb-t/f$/AA/P2_OK_P4\\AB002-AA0769077.jpg    0.000989\n",
       "2  //Srvappweb-t/f$/AA/P2_OK_P4\\AB002-AA0769078.jpg    0.000040\n",
       "3  //Srvappweb-t/f$/AA/P2_OK_P4\\AB002-AA0816279.jpg    0.000215\n",
       "4  //Srvappweb-t/f$/AA/P2_OK_P4\\AB002-AA0842141.jpg    0.000532"
      ]
     },
     "execution_count": 4,
     "metadata": {},
     "output_type": "execute_result"
    }
   ],
   "source": [
    "df_sample.head()"
   ]
  },
  {
   "cell_type": "code",
   "execution_count": 5,
   "metadata": {},
   "outputs": [
    {
     "name": "stdout",
     "output_type": "stream",
     "text": [
      "we need to label: 11668 image\n"
     ]
    }
   ],
   "source": [
    "print(f'we need to label: {len(df_sample)} image')"
   ]
  },
  {
   "cell_type": "code",
   "execution_count": 6,
   "metadata": {
    "scrolled": true
   },
   "outputs": [],
   "source": [
    "# 建立結果紀錄檔，篩選尚未貼標的清單\n",
    "label_log_file = './blue_check_0.001_white_Error.csv'  # 檔名\n",
    "if not os.path.exists(label_log_file):  # 判斷是否存在，不存在才建立\n",
    "    df = pd.DataFrame(columns=['path', 'blue_color', 'human_check'])\n",
    "    df.to_csv(label_log_file, index=False)\n",
    "else:  #  如果檔案存在(貼標過)\n",
    "    df_res = pd.read_csv(label_log_file)  # 讀取資料\n",
    "    for i in range(len(df_res)):  # 結合 df_sample 篩選尚未做過的照片\n",
    "        if df_res.iloc[i]['path'] in df_sample['path'].tolist():\n",
    "            df_sample = df_sample[df_sample.path != df_res.iloc[i]['path']]"
   ]
  },
  {
   "cell_type": "markdown",
   "metadata": {},
   "source": [
    "## 3. GUI Tool\n",
    "[Go back to the Table of Contents](#Table-of-Contents)"
   ]
  },
  {
   "cell_type": "code",
   "execution_count": 7,
   "metadata": {},
   "outputs": [],
   "source": [
    "mode = 'complete_pic'  # P2: 右下編號   P1_1: 左下logo  P1_2: 整張照片\n",
    "\n",
    "def update_data():  # 更新介面中的圖片、文字\n",
    "    text = f\"{root.x+1}/{len(df_sample)}, {root.fname.split('/')[-1]}\"  # 文字內容：\"照片編號/清單長度, 檔名\"\n",
    "    vlabel.configure(image=root.img)  # 更新圖片\n",
    "    bot_path.configure(text=text)  # 更新文字\n",
    "\n",
    "    \n",
    "def image_processing():  # 圖片讀取+處理\n",
    "    root.fname = df_sample.iloc[root.x]['path']  # 取得檔名\n",
    "    img = Image.open(root.fname)  # 讀取照片\n",
    "    img_y = 750  # 設定照片大小調整之預設高度\n",
    "    \n",
    "    if mode == 'P2':  # 只看右下角 編號\n",
    "        img_y = 450  # 設定照片大小調整之預設高度\n",
    "        width, height = img.size  # 取得圖片長寬\n",
    "        left, top, right, bottom = (width//2)+(width//8), (height//2)+(int(height//2.7)), width, height  # 計算裁切範圍\n",
    "        img = img.crop((left, top, right, bottom))  # 裁切照片\n",
    "    elif mode == 'P1_1':  # 只看左下角 logo\n",
    "        img_y = 400\n",
    "        width, height = img.size \n",
    "        left, top, right, bottom = 0, 9*height/10, 1*width/3, height \n",
    "        img = img.crop((left, top, right, bottom)) \n",
    "\n",
    "\n",
    "    width, height = img.size  # 取得圖片長寬\n",
    "    img = img.resize((int((img_y/img.size[1])*img.size[0]),img_y),Image.ANTIALIAS)  # 調整圖片大小\n",
    "    root.img = ImageTk.PhotoImage(img)  # 轉換照片for GUI\n",
    "    \n",
    "    \n",
    "def save_and_next(identify):  # 紀錄貼標結果 + 換照片\n",
    "    human_check = pd.read_csv(label_log_file)  # 讀取貼標紀錄檔\n",
    "    if root.fname in human_check['path'].tolist():  # 判斷是否重新貼標\n",
    "        human_check = human_check[human_check.path != root.fname]  # 刪除舊資料\n",
    "        human_check.to_csv(label_log_file, index=False)  # 儲存\n",
    "    res = [df_sample.iloc[root.x].tolist() + [identify]]  # 新的貼標紀錄\n",
    "    df = pd.DataFrame(res)  # 轉換DF\n",
    "    df.to_csv(label_log_file, index=False, header=False, mode='a')  # 寫入紀錄檔\n",
    "    root.x += 1  # 換下一張\n",
    "    \n",
    "    try:\n",
    "        image_processing()  # 圖片讀取+處理\n",
    "        update_data()  # 圖片更新\n",
    "    except IndexError as er:  # 全部判斷完了!!\n",
    "        print(er)\n",
    "        bot_path.configure(text=\"Finished!!\" ) \n",
    "    \n",
    "    \n",
    "def Button_NG():  # 按鈕觸發之程式\n",
    "    save_and_next('NG')\n",
    "    \n",
    "    \n",
    "def Button_OK():  # 按鈕觸發之程式\n",
    "    save_and_next('OK')\n",
    "\n",
    "    \n",
    "def Button_ERROR():  # 按鈕觸發之程式\n",
    "    save_and_next('ERROR')\n",
    "    \n",
    "    \n",
    "def next_page():  # 換下一張(不做貼標處理)\n",
    "    root.x += 1  # 取得下一張的index\n",
    "    \n",
    "    if root.x <= len(df_sample):\n",
    "        image_processing()  # 圖片讀取+處理\n",
    "        update_data()  # 圖片更新\n",
    "    else:  # 如果沒有下一張了\n",
    "        bot_path.configure(text=\"NO DATA!!!\" )\n",
    "    \n",
    "    \n",
    "def last_page():  # 換上一張(不做貼標處理)\n",
    "    root.x -= 1 \n",
    "    \n",
    "    if root.x >= 0:\n",
    "        image_processing() \n",
    "        update_data() \n",
    "    else:  # 如果沒有上一張了\n",
    "        bot_path.configure(text=\"NO DATA!!!\" )\n",
    "\n",
    "        \n",
    "def xFunc1(event):\n",
    "    if event.keycode == 39:\n",
    "        next_page()\n",
    "    elif event.keycode == 37:\n",
    "        last_page()\n",
    "    elif event.keycode == 49:\n",
    "        Button_OK()\n",
    "    elif event.keycode == 50:\n",
    "        Button_NG()\n",
    "    elif event.keycode == 51:\n",
    "        Button_ERROR()\n",
    "        \n",
    "root = tk.Tk()  # GUI主檔\n",
    "root.title(\"Label Tool\")  # 視窗標題\n",
    "root.configure(background='white')  # 設定視窗背景顏色\n",
    "root.x = 0  # 紀錄照片清單順序\n",
    "root.geometry(\"1100x980\")  # 設定視窗大小\n",
    "\n",
    "# 判斷照片呈現模式，調整物件位置參數、視窗大小\n",
    "rel_y = 0.90  # 按鈕位置設定\n",
    "\n",
    "if mode == 'P2':  # 看編號\n",
    "    root.geometry(\"1200x650\")  # 設定視窗大小\n",
    "elif mode == 'P1_1':  # 看logo\n",
    "    root.geometry(\"1200x580\")\n",
    "else:  # 看整張\n",
    "    root.geometry(\"1100x940\")\n",
    "    rel_y = 0.93\n",
    "    \n",
    "# 圖片\n",
    "image_processing()  # 取得第一張照片\n",
    "vlabel=tk.Label(root,image=root.img)  # 上傳至GUI\n",
    "vlabel.configure(background='white')  # 背景顏色\n",
    "vlabel.focus_set()\n",
    "vlabel.pack(side = \"top\")  # 圖片位置\n",
    "vlabel.bind(\"<Key>\", xFunc1)\n",
    "\n",
    "# 檔名\n",
    "text = f\"{root.x+1}/{len(df_sample)}, {root.fname.split('/')[-1]}\"  # 文字內容：\"照片編號/清單長度, 檔名\"\n",
    "bot_path = tk.Label(root, text=text, font=(\"Arial\", 35))  # 文字呈現視窗、內容、格式\n",
    "bot_path.configure(background='white')  # 背景顏色\n",
    "bot_path.pack(side = \"top\")  # 文字位置\n",
    "\n",
    "# 按鈕格式設定值\n",
    "helv = tkFont.Font(family='Helvetica', size=30, weight='bold')  # 標籤按鈕文字格式\n",
    "helv_change = tkFont.Font(family='Helvetica', size=25, weight='bold')  # 換張按鈕文字格式\n",
    "font_color = '#3b3b3b'  # 文字顏色\n",
    "bg_ok, bg_ng, bg_err = '#d7fcac', '#ffba59', '#ff5c59'  # 標籤按鈕顏色\n",
    "bg_next, bg_last = '#ffffff', '#ffffff'  # 換張按鈕顏色\n",
    "pad = (10, 10)  # 邊界大小\n",
    "\n",
    "# 標籤按鈕\n",
    "height, width = 1, 10  # 按鈕長寬\n",
    "\n",
    "# 建立按鈕物件   所屬框架   文字       觸發程式          背景顏色   高度           寬度         文字格式    文字顏色\n",
    "P1_OK = tk.Button(root, text=\"OK\", command=Button_OK, bg=bg_ok, height=height, width=width, font=helv, fg=font_color)\n",
    "P1_OK.place(relx=0.25, rely=rel_y, anchor=tk.CENTER)  # 按鈕位置\n",
    "\n",
    "P1_NG = tk.Button(root, text=\"NG\", command=Button_NG, bg=bg_ng, height=height, width=width, font=helv, fg=font_color)\n",
    "P1_NG.place(relx=0.5, rely=rel_y, anchor=tk.CENTER)\n",
    "\n",
    "P1_ERROR = tk.Button(root, text=\"ERROR\", command=Button_ERROR, bg=bg_err, height=height, width=width, font=helv, fg=font_color)\n",
    "P1_ERROR.place(relx=0.75, rely=rel_y, anchor=tk.CENTER)\n",
    "\n",
    "# 換張按鈕\n",
    "height, width = 2, 5  # 按鈕長寬\n",
    "\n",
    "# 建立按鈕物件          所屬框架  文字        觸發程式          背景顏色    按鈕樣式(平化)    高度           寬度         文字格式\n",
    "next_button = tk.Button(root, text=\">>>\", command=next_page, bg=bg_next, relief='flat',height=height, width=width, font=helv)\n",
    "next_button.pack(side=tk.RIGHT, padx = pad, pady = pad)  # 按鈕位置\n",
    "\n",
    "last_button = tk.Button(root, text=\"<<<\", command=last_page, bg=bg_last, relief='flat',height=height, width=width, font=helv)\n",
    "last_button.pack(side=tk.LEFT, padx = pad, pady = pad)\n",
    "\n",
    "root.mainloop()  # 啟動 GUI"
   ]
  },
  {
   "cell_type": "markdown",
   "metadata": {},
   "source": [
    "## 4. Read label CSV File\n",
    "[Go back to the Table of Contents](#Table-of-Contents)"
   ]
  },
  {
   "cell_type": "code",
   "execution_count": 8,
   "metadata": {},
   "outputs": [],
   "source": [
    "blue_check_df = pd.read_csv('./blue_check_0.001.csv')  "
   ]
  },
  {
   "cell_type": "code",
   "execution_count": 9,
   "metadata": {},
   "outputs": [
    {
     "data": {
      "text/html": [
       "<div>\n",
       "<style scoped>\n",
       "    .dataframe tbody tr th:only-of-type {\n",
       "        vertical-align: middle;\n",
       "    }\n",
       "\n",
       "    .dataframe tbody tr th {\n",
       "        vertical-align: top;\n",
       "    }\n",
       "\n",
       "    .dataframe thead th {\n",
       "        text-align: right;\n",
       "    }\n",
       "</style>\n",
       "<table border=\"1\" class=\"dataframe\">\n",
       "  <thead>\n",
       "    <tr style=\"text-align: right;\">\n",
       "      <th></th>\n",
       "      <th>path</th>\n",
       "      <th>blue_color</th>\n",
       "      <th>human_check</th>\n",
       "    </tr>\n",
       "  </thead>\n",
       "  <tbody>\n",
       "    <tr>\n",
       "      <th>0</th>\n",
       "      <td>//Srvappweb-t/f$/AA/P2_OK_P4\\AB002-AA0769076.jpg</td>\n",
       "      <td>0.000124</td>\n",
       "      <td>OK</td>\n",
       "    </tr>\n",
       "    <tr>\n",
       "      <th>1</th>\n",
       "      <td>//Srvappweb-t/f$/AA/P2_OK_P4\\AB002-AA0769077.jpg</td>\n",
       "      <td>0.000989</td>\n",
       "      <td>OK</td>\n",
       "    </tr>\n",
       "    <tr>\n",
       "      <th>2</th>\n",
       "      <td>//Srvappweb-t/f$/AA/P2_OK_P4\\AB002-AA0769078.jpg</td>\n",
       "      <td>0.000040</td>\n",
       "      <td>OK</td>\n",
       "    </tr>\n",
       "    <tr>\n",
       "      <th>3</th>\n",
       "      <td>//Srvappweb-t/f$/AA/P2_OK_P4\\AB002-AA0816279.jpg</td>\n",
       "      <td>0.000215</td>\n",
       "      <td>OK</td>\n",
       "    </tr>\n",
       "    <tr>\n",
       "      <th>4</th>\n",
       "      <td>//Srvappweb-t/f$/AA/P2_OK_P4\\AB002-AA0842141.jpg</td>\n",
       "      <td>0.000532</td>\n",
       "      <td>OK</td>\n",
       "    </tr>\n",
       "  </tbody>\n",
       "</table>\n",
       "</div>"
      ],
      "text/plain": [
       "                                               path  blue_color human_check\n",
       "0  //Srvappweb-t/f$/AA/P2_OK_P4\\AB002-AA0769076.jpg    0.000124          OK\n",
       "1  //Srvappweb-t/f$/AA/P2_OK_P4\\AB002-AA0769077.jpg    0.000989          OK\n",
       "2  //Srvappweb-t/f$/AA/P2_OK_P4\\AB002-AA0769078.jpg    0.000040          OK\n",
       "3  //Srvappweb-t/f$/AA/P2_OK_P4\\AB002-AA0816279.jpg    0.000215          OK\n",
       "4  //Srvappweb-t/f$/AA/P2_OK_P4\\AB002-AA0842141.jpg    0.000532          OK"
      ]
     },
     "execution_count": 9,
     "metadata": {},
     "output_type": "execute_result"
    }
   ],
   "source": [
    "blue_check_df.head()"
   ]
  },
  {
   "cell_type": "markdown",
   "metadata": {},
   "source": [
    "## 5. Check Label Overview\n",
    "[Go back to the Table of Contents](#Table-of-Contents)"
   ]
  },
  {
   "cell_type": "code",
   "execution_count": 10,
   "metadata": {},
   "outputs": [
    {
     "data": {
      "text/plain": [
       "human_check\n",
       "ERROR      491\n",
       "NG         187\n",
       "OK       10989\n",
       "dtype: int64"
      ]
     },
     "execution_count": 10,
     "metadata": {},
     "output_type": "execute_result"
    }
   ],
   "source": [
    "blue_check_df.groupby(['human_check']).size()"
   ]
  },
  {
   "cell_type": "code",
   "execution_count": 11,
   "metadata": {},
   "outputs": [
    {
     "data": {
      "text/plain": [
       "11667"
      ]
     },
     "execution_count": 11,
     "metadata": {},
     "output_type": "execute_result"
    }
   ],
   "source": [
    "print(f'{len(blue_check_df)} image we already label')"
   ]
  },
  {
   "cell_type": "markdown",
   "metadata": {},
   "source": [
    "## 6. Threshold Controling\n",
    "[Go back to the Table of Contents](#Table-of-Contents)"
   ]
  },
  {
   "cell_type": "code",
   "execution_count": 12,
   "metadata": {},
   "outputs": [],
   "source": [
    "blue_check_df_rank = blue_check_df.sort_values('blue_color')\n",
    "blue_check_df_rank = blue_check_df_rank.reset_index(drop = True)"
   ]
  },
  {
   "cell_type": "code",
   "execution_count": 13,
   "metadata": {},
   "outputs": [],
   "source": [
    "blue_check_df_rank['ranks'] = [i for i in range(len(blue_check_df_rank))]"
   ]
  },
  {
   "cell_type": "code",
   "execution_count": 14,
   "metadata": {},
   "outputs": [],
   "source": [
    "blue_check_df_rank['error_count'] = [(blue_check_df_rank.human_check[0:i+1]=='ERROR').sum() for i in range(len(blue_check_df_rank))]"
   ]
  },
  {
   "cell_type": "code",
   "execution_count": 15,
   "metadata": {},
   "outputs": [],
   "source": [
    "blue_check_df_rank['ok_count'] = [(blue_check_df_rank.human_check[0:i+1]=='OK').sum() for i in range(len(blue_check_df_rank))]"
   ]
  },
  {
   "cell_type": "code",
   "execution_count": 16,
   "metadata": {},
   "outputs": [],
   "source": [
    "blue_check_df_rank['ng_count'] = [(blue_check_df_rank.human_check[0:i+1]=='NG').sum() for i in range(len(blue_check_df_rank))]"
   ]
  },
  {
   "cell_type": "code",
   "execution_count": 17,
   "metadata": {},
   "outputs": [
    {
     "data": {
      "text/html": [
       "<div>\n",
       "<style scoped>\n",
       "    .dataframe tbody tr th:only-of-type {\n",
       "        vertical-align: middle;\n",
       "    }\n",
       "\n",
       "    .dataframe tbody tr th {\n",
       "        vertical-align: top;\n",
       "    }\n",
       "\n",
       "    .dataframe thead th {\n",
       "        text-align: right;\n",
       "    }\n",
       "</style>\n",
       "<table border=\"1\" class=\"dataframe\">\n",
       "  <thead>\n",
       "    <tr style=\"text-align: right;\">\n",
       "      <th></th>\n",
       "      <th>path</th>\n",
       "      <th>blue_color</th>\n",
       "      <th>human_check</th>\n",
       "      <th>ranks</th>\n",
       "      <th>error_count</th>\n",
       "      <th>ok_count</th>\n",
       "      <th>ng_count</th>\n",
       "    </tr>\n",
       "  </thead>\n",
       "  <tbody>\n",
       "    <tr>\n",
       "      <th>0</th>\n",
       "      <td>//Srvappweb-t/f$/UG/P3_OK_P4\\XC052-UG0760014.jpg</td>\n",
       "      <td>0.000000</td>\n",
       "      <td>OK</td>\n",
       "      <td>0</td>\n",
       "      <td>0</td>\n",
       "      <td>1</td>\n",
       "      <td>0</td>\n",
       "    </tr>\n",
       "    <tr>\n",
       "      <th>1</th>\n",
       "      <td>//Srvappweb-t/f$/EG/P2_OK_P4\\NB014-EG0140941.jpg</td>\n",
       "      <td>0.000000</td>\n",
       "      <td>OK</td>\n",
       "      <td>1</td>\n",
       "      <td>0</td>\n",
       "      <td>2</td>\n",
       "      <td>0</td>\n",
       "    </tr>\n",
       "    <tr>\n",
       "      <th>2</th>\n",
       "      <td>//Srvappweb-t/f$/EG/P2_OK_P4\\NB014-EG0140945.jpg</td>\n",
       "      <td>0.000000</td>\n",
       "      <td>OK</td>\n",
       "      <td>2</td>\n",
       "      <td>0</td>\n",
       "      <td>3</td>\n",
       "      <td>0</td>\n",
       "    </tr>\n",
       "    <tr>\n",
       "      <th>3</th>\n",
       "      <td>//Srvappweb-t/f$/EG/P2_OK_P4\\NB014-EG0140950.jpg</td>\n",
       "      <td>0.000000</td>\n",
       "      <td>OK</td>\n",
       "      <td>3</td>\n",
       "      <td>0</td>\n",
       "      <td>4</td>\n",
       "      <td>0</td>\n",
       "    </tr>\n",
       "    <tr>\n",
       "      <th>4</th>\n",
       "      <td>//Srvappweb-t/f$/EG/P2_OK_P4\\NB014-EG0156552.jpg</td>\n",
       "      <td>0.000000</td>\n",
       "      <td>OK</td>\n",
       "      <td>4</td>\n",
       "      <td>0</td>\n",
       "      <td>5</td>\n",
       "      <td>0</td>\n",
       "    </tr>\n",
       "    <tr>\n",
       "      <th>...</th>\n",
       "      <td>...</td>\n",
       "      <td>...</td>\n",
       "      <td>...</td>\n",
       "      <td>...</td>\n",
       "      <td>...</td>\n",
       "      <td>...</td>\n",
       "      <td>...</td>\n",
       "    </tr>\n",
       "    <tr>\n",
       "      <th>11662</th>\n",
       "      <td>//Srvappweb-t/f$/AG/P2_OK_P4\\DC060-AG1096827.jpg</td>\n",
       "      <td>0.000999</td>\n",
       "      <td>OK</td>\n",
       "      <td>11662</td>\n",
       "      <td>490</td>\n",
       "      <td>10986</td>\n",
       "      <td>187</td>\n",
       "    </tr>\n",
       "    <tr>\n",
       "      <th>11663</th>\n",
       "      <td>//Srvappweb-t/f$/AG/P2_OK_P4\\DC060-AG1096946.jpg</td>\n",
       "      <td>0.000999</td>\n",
       "      <td>OK</td>\n",
       "      <td>11663</td>\n",
       "      <td>490</td>\n",
       "      <td>10987</td>\n",
       "      <td>187</td>\n",
       "    </tr>\n",
       "    <tr>\n",
       "      <th>11664</th>\n",
       "      <td>//Srvappweb-t/f$/EG/P2_OK_P4\\PC100-EG0229458.jpg</td>\n",
       "      <td>0.000999</td>\n",
       "      <td>ERROR</td>\n",
       "      <td>11664</td>\n",
       "      <td>491</td>\n",
       "      <td>10987</td>\n",
       "      <td>187</td>\n",
       "    </tr>\n",
       "    <tr>\n",
       "      <th>11665</th>\n",
       "      <td>//Srvappweb-t/f$/UD/P2_OK_P4\\UB128-UD0731505.jpg</td>\n",
       "      <td>0.000999</td>\n",
       "      <td>OK</td>\n",
       "      <td>11665</td>\n",
       "      <td>491</td>\n",
       "      <td>10988</td>\n",
       "      <td>187</td>\n",
       "    </tr>\n",
       "    <tr>\n",
       "      <th>11666</th>\n",
       "      <td>//Srvappweb-t/f$/UD/P2_OK_P4\\UB128-UD0731561.jpg</td>\n",
       "      <td>0.000999</td>\n",
       "      <td>OK</td>\n",
       "      <td>11666</td>\n",
       "      <td>491</td>\n",
       "      <td>10989</td>\n",
       "      <td>187</td>\n",
       "    </tr>\n",
       "  </tbody>\n",
       "</table>\n",
       "<p>11667 rows × 7 columns</p>\n",
       "</div>"
      ],
      "text/plain": [
       "                                                   path  blue_color  \\\n",
       "0      //Srvappweb-t/f$/UG/P3_OK_P4\\XC052-UG0760014.jpg    0.000000   \n",
       "1      //Srvappweb-t/f$/EG/P2_OK_P4\\NB014-EG0140941.jpg    0.000000   \n",
       "2      //Srvappweb-t/f$/EG/P2_OK_P4\\NB014-EG0140945.jpg    0.000000   \n",
       "3      //Srvappweb-t/f$/EG/P2_OK_P4\\NB014-EG0140950.jpg    0.000000   \n",
       "4      //Srvappweb-t/f$/EG/P2_OK_P4\\NB014-EG0156552.jpg    0.000000   \n",
       "...                                                 ...         ...   \n",
       "11662  //Srvappweb-t/f$/AG/P2_OK_P4\\DC060-AG1096827.jpg    0.000999   \n",
       "11663  //Srvappweb-t/f$/AG/P2_OK_P4\\DC060-AG1096946.jpg    0.000999   \n",
       "11664  //Srvappweb-t/f$/EG/P2_OK_P4\\PC100-EG0229458.jpg    0.000999   \n",
       "11665  //Srvappweb-t/f$/UD/P2_OK_P4\\UB128-UD0731505.jpg    0.000999   \n",
       "11666  //Srvappweb-t/f$/UD/P2_OK_P4\\UB128-UD0731561.jpg    0.000999   \n",
       "\n",
       "      human_check  ranks  error_count  ok_count  ng_count  \n",
       "0              OK      0            0         1         0  \n",
       "1              OK      1            0         2         0  \n",
       "2              OK      2            0         3         0  \n",
       "3              OK      3            0         4         0  \n",
       "4              OK      4            0         5         0  \n",
       "...           ...    ...          ...       ...       ...  \n",
       "11662          OK  11662          490     10986       187  \n",
       "11663          OK  11663          490     10987       187  \n",
       "11664       ERROR  11664          491     10987       187  \n",
       "11665          OK  11665          491     10988       187  \n",
       "11666          OK  11666          491     10989       187  \n",
       "\n",
       "[11667 rows x 7 columns]"
      ]
     },
     "execution_count": 17,
     "metadata": {},
     "output_type": "execute_result"
    }
   ],
   "source": [
    "blue_check_df_rank"
   ]
  },
  {
   "cell_type": "code",
   "execution_count": 31,
   "metadata": {},
   "outputs": [],
   "source": [
    "x = blue_check_df_rank.blue_color\t\n",
    "error_count = blue_check_df_rank.error_count\n",
    "ok_count = blue_check_df_rank.ok_count\n",
    "ng_count = blue_check_df_rank.ng_count"
   ]
  },
  {
   "cell_type": "code",
   "execution_count": 32,
   "metadata": {},
   "outputs": [
    {
     "data": {
      "image/png": "[encoded data removed]",
      "text/plain": [
       "<Figure size 1080x1080 with 1 Axes>"
      ]
     },
     "metadata": {
      "needs_background": "light"
     },
     "output_type": "display_data"
    }
   ],
   "source": [
    "fig = plt.figure(figsize=(15, 15))\n",
    "lw = 2 # 線的粗細\n",
    "plt.plot(x, error_count, color='darkorange', lw=lw, label='error_count')\n",
    "plt.plot(x, ok_count, color='darkblue', lw=lw, label='ok_count')\n",
    "plt.plot(x, ng_count, color='red', lw=lw, label='ng_count')\n",
    "\n",
    "plt.xlabel('rank')\n",
    "plt.ylabel('cumulative count')\n",
    "plt.title('cumulative number Fig')\n",
    "plt.legend(loc=\"upper left\")\n",
    "#fig.savefig('/tmp/roc.png')\n",
    "plt.show()"
   ]
  },
  {
   "cell_type": "code",
   "execution_count": null,
   "metadata": {},
   "outputs": [],
   "source": []
  },
  {
   "cell_type": "code",
   "execution_count": null,
   "metadata": {},
   "outputs": [],
   "source": []
  },
  {
   "cell_type": "code",
   "execution_count": null,
   "metadata": {},
   "outputs": [],
   "source": []
  },
  {
   "cell_type": "code",
   "execution_count": null,
   "metadata": {},
   "outputs": [],
   "source": []
  },
  {
   "cell_type": "code",
   "execution_count": null,
   "metadata": {},
   "outputs": [],
   "source": []
  }
 ],
 "metadata": {
  "kernelspec": {
   "display_name": "Python 3",
   "language": "python",
   "name": "python3"
  },
  "language_info": {
   "codemirror_mode": {
    "name": "ipython",
    "version": 3
   },
   "file_extension": ".py",
   "mimetype": "text/x-python",
   "name": "python",
   "nbconvert_exporter": "python",
   "pygments_lexer": "ipython3",
   "version": "3.7.1"
  }
 },
 "nbformat": 4,
 "nbformat_minor": 4
}
