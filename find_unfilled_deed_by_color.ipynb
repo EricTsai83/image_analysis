{
 "cells": [
  {
   "cell_type": "markdown",
   "metadata": {},
   "source": [
    "# Analysis Purpose\n",
    ">### Caculating blue pixel number to predict image whether is unfilled deed"
   ]
  },
  {
   "cell_type": "markdown",
   "metadata": {},
   "source": [
    "## Table of Contents\n",
    "* [1. Import Packages](#1.-Import-Packages)\n",
    "* [2. Set Direction and Find the File Path](#2.-Set-Direction-and-Find-the-File-Path)\n",
    "* [3. Model Build by Image RGB Threshold](#3.-Model-Build-by-Image-RGB-Threshold)\n",
    "    * [3.1 Save Model Result](#3.1-Save-Model-Result)\n",
    "* [4. check no blue pixel image result](#4.-check-no-blue-pixel-image-result)"
   ]
  },
  {
   "cell_type": "markdown",
   "metadata": {},
   "source": [
    "## 1. Import Packages   \n",
    "[Go back to the Table of Contents](#Table-of-Contents)"
   ]
  },
  {
   "cell_type": "code",
   "execution_count": 1,
   "metadata": {},
   "outputs": [],
   "source": [
    "# import the necessary packages\n",
    "import numpy as np\n",
    "import argparse\n",
    "import cv2\n",
    "import matplotlib.pyplot as plt\n",
    "import os\n",
    "from glob import glob\n",
    "import pandas as pd\n",
    "from tqdm import tqdm\n",
    "import random"
   ]
  },
  {
   "cell_type": "markdown",
   "metadata": {},
   "source": [
    "## 2. Set Direction and Find the File Path\n",
    "[Go back to the Table of Contents](#Table-of-Contents)"
   ]
  },
  {
   "cell_type": "code",
   "execution_count": 2,
   "metadata": {},
   "outputs": [],
   "source": [
    "deed_name = ['AA', 'AD', 'AG', 'BA', 'BD', 'BG', 'EA', 'ED', 'EG', 'HA', 'HD',\n",
    "             'HG', 'LA', 'LG', 'PA', 'PG', 'QA', 'QG', 'RA', 'RG', 'UA', 'UD', 'UG', ]"
   ]
  },
  {
   "cell_type": "code",
   "execution_count": 3,
   "metadata": {},
   "outputs": [],
   "source": [
    "ok_file_name = ['P2_OK_P4', 'P3_OK_P4']"
   ]
  },
  {
   "cell_type": "code",
   "execution_count": 4,
   "metadata": {},
   "outputs": [],
   "source": [
    "ok_deed_dir = \"//Srvappweb-t/f$/{}/{}/\".format(deed_name[1], ok_file_name[1])"
   ]
  },
  {
   "cell_type": "code",
   "execution_count": 5,
   "metadata": {},
   "outputs": [],
   "source": [
    "ok_deed_dir_li = []\n",
    "for i in range(len(deed_name)):\n",
    "    for t in range(len(ok_file_name)):\n",
    "        ok_deed_dir = \"//Srvappweb-t/f$/{}/{}/\".format(deed_name[i], ok_file_name[t])\n",
    "        ok_deed_dir_li.append(ok_deed_dir)"
   ]
  },
  {
   "cell_type": "code",
   "execution_count": 6,
   "metadata": {},
   "outputs": [],
   "source": [
    "img_path_list = []\n",
    "for ok_deed_dir in ok_deed_dir_li:\n",
    "    for file_path in glob('{}/*.jpg'.format(ok_deed_dir)):\n",
    "        img_path_list.append(file_path)"
   ]
  },
  {
   "cell_type": "code",
   "execution_count": 7,
   "metadata": {},
   "outputs": [
    {
     "data": {
      "text/plain": [
       "'//Srvappweb-t/f$/AA/P2_OK_P4\\\\AB002-AA0769076.jpg'"
      ]
     },
     "execution_count": 7,
     "metadata": {},
     "output_type": "execute_result"
    }
   ],
   "source": [
    "img_path_list[0]"
   ]
  },
  {
   "cell_type": "code",
   "execution_count": 8,
   "metadata": {},
   "outputs": [
    {
     "name": "stdout",
     "output_type": "stream",
     "text": [
      "Number of ok deed: 69912\n"
     ]
    }
   ],
   "source": [
    "print(f'Number of ok deed: {len(img_path_list)}')"
   ]
  },
  {
   "cell_type": "markdown",
   "metadata": {},
   "source": [
    "## 3. Model Build by Image RGB Threshold\n",
    "[Go back to the Table of Contents](#Table-of-Contents)"
   ]
  },
  {
   "cell_type": "code",
   "execution_count": 9,
   "metadata": {},
   "outputs": [
    {
     "name": "stderr",
     "output_type": "stream",
     "text": [
      "  7%|▋         | 5000/69912 [14:38<3:10:03,  5.69it/s] \n"
     ]
    }
   ],
   "source": [
    "# 查看類別資料夾裡的資料\n",
    "result = []\n",
    "for i in tqdm(range(len(img_path_list))):\n",
    "    if i == 5000:\n",
    "        break\n",
    "    # 讀取圖檔\n",
    "    img_path = cv2.imread(img_path_list[i])\n",
    "    img = cv2.cvtColor(img_path, cv2.COLOR_BGR2RGB)\n",
    "\n",
    "\n",
    "\n",
    "    img = cv2.resize(img,(675, 900))\n",
    "\n",
    "\n",
    "    # 裁切區域的 x 與 y 座標（左上角）\n",
    "    x = 100\n",
    "    y = 30\n",
    "\n",
    "    # 裁切區域的長度與寬度\n",
    "    w = 525\n",
    "    h = 770\n",
    "\n",
    "    # 裁切圖片\n",
    "    cut_img = img[y:y+h, x:x+w]\n",
    "\n",
    "    color_dict = {'blue_0': [(117, 0, 0),(255, 255, 108)],\n",
    "                  'blue_1': [(121, 0, 0),(255, 115, 152)]\n",
    "                  }\n",
    "\n",
    "\n",
    "    blue_0_min = color_dict['blue_0'][0]\n",
    "    blue_0_max = color_dict['blue_0'][1]\n",
    "    blue_1_min = color_dict['blue_1'][0]\n",
    "    blue_1_max = color_dict['blue_1'][1]\n",
    "\n",
    "    # return 一個值為 0 或 255的矩陣\n",
    "    find_blue_pixel_0 = cv2.inRange(cut_img, blue_0_min, blue_0_max)\n",
    "    find_blue_pixel_1 = cv2.inRange(cut_img, blue_1_min, blue_1_max)\n",
    "    find_blue_pixel = find_blue_pixel_0+find_blue_pixel_1\n",
    "    \n",
    "    blue_color = len(find_blue_pixel[(find_blue_pixel >= 240)])/(find_blue_pixel.shape[0]*find_blue_pixel.shape[1])\n",
    "    \n",
    "    \n",
    "    result.append(blue_color)"
   ]
  },
  {
   "cell_type": "markdown",
   "metadata": {},
   "source": [
    "## 3.1 Save Model Result\n",
    "[Go back to the Table of Contents](#Table-of-Contents)"
   ]
  },
  {
   "cell_type": "code",
   "execution_count": 10,
   "metadata": {},
   "outputs": [],
   "source": [
    "img_path_df = pd.DataFrame(img_path_list, columns = ['path'])"
   ]
  },
  {
   "cell_type": "code",
   "execution_count": 11,
   "metadata": {},
   "outputs": [],
   "source": [
    "result = pd.DataFrame(result, columns = ['blue_color'])\n",
    "\n",
    "data_result_df = pd.concat([img_path_df, result], axis = 1)\n",
    "data_result_df.to_csv('./data_result_df.csv', index = False)"
   ]
  },
  {
   "cell_type": "code",
   "execution_count": 12,
   "metadata": {},
   "outputs": [
    {
     "data": {
      "text/html": [
       "<div>\n",
       "<style scoped>\n",
       "    .dataframe tbody tr th:only-of-type {\n",
       "        vertical-align: middle;\n",
       "    }\n",
       "\n",
       "    .dataframe tbody tr th {\n",
       "        vertical-align: top;\n",
       "    }\n",
       "\n",
       "    .dataframe thead th {\n",
       "        text-align: right;\n",
       "    }\n",
       "</style>\n",
       "<table border=\"1\" class=\"dataframe\">\n",
       "  <thead>\n",
       "    <tr style=\"text-align: right;\">\n",
       "      <th></th>\n",
       "      <th>path</th>\n",
       "      <th>blue_color</th>\n",
       "    </tr>\n",
       "  </thead>\n",
       "  <tbody>\n",
       "    <tr>\n",
       "      <th>0</th>\n",
       "      <td>//Srvappweb-t/f$/AA/P2_OK_P4\\AB002-AA0769076.jpg</td>\n",
       "      <td>0.000139</td>\n",
       "    </tr>\n",
       "    <tr>\n",
       "      <th>1</th>\n",
       "      <td>//Srvappweb-t/f$/AA/P2_OK_P4\\AB002-AA0769077.jpg</td>\n",
       "      <td>0.002778</td>\n",
       "    </tr>\n",
       "    <tr>\n",
       "      <th>2</th>\n",
       "      <td>//Srvappweb-t/f$/AA/P2_OK_P4\\AB002-AA0769078.jpg</td>\n",
       "      <td>0.000042</td>\n",
       "    </tr>\n",
       "    <tr>\n",
       "      <th>3</th>\n",
       "      <td>//Srvappweb-t/f$/AA/P2_OK_P4\\AB002-AA0769097.jpg</td>\n",
       "      <td>0.019466</td>\n",
       "    </tr>\n",
       "    <tr>\n",
       "      <th>4</th>\n",
       "      <td>//Srvappweb-t/f$/AA/P2_OK_P4\\AB002-AA0816252.jpg</td>\n",
       "      <td>0.010964</td>\n",
       "    </tr>\n",
       "  </tbody>\n",
       "</table>\n",
       "</div>"
      ],
      "text/plain": [
       "                                               path  blue_color\n",
       "0  //Srvappweb-t/f$/AA/P2_OK_P4\\AB002-AA0769076.jpg    0.000139\n",
       "1  //Srvappweb-t/f$/AA/P2_OK_P4\\AB002-AA0769077.jpg    0.002778\n",
       "2  //Srvappweb-t/f$/AA/P2_OK_P4\\AB002-AA0769078.jpg    0.000042\n",
       "3  //Srvappweb-t/f$/AA/P2_OK_P4\\AB002-AA0769097.jpg    0.019466\n",
       "4  //Srvappweb-t/f$/AA/P2_OK_P4\\AB002-AA0816252.jpg    0.010964"
      ]
     },
     "execution_count": 12,
     "metadata": {},
     "output_type": "execute_result"
    }
   ],
   "source": [
    "data_result_df.head()"
   ]
  },
  {
   "cell_type": "code",
   "execution_count": 13,
   "metadata": {},
   "outputs": [],
   "source": [
    "unfilled_deed = data_result_df[data_result_df.blue_color<0.0001]"
   ]
  },
  {
   "cell_type": "code",
   "execution_count": 14,
   "metadata": {},
   "outputs": [
    {
     "name": "stdout",
     "output_type": "stream",
     "text": [
      "unfilled_deed: 184\n"
     ]
    }
   ],
   "source": [
    "print(f'unfilled_deed: {len(unfilled_deed)}')"
   ]
  },
  {
   "cell_type": "markdown",
   "metadata": {},
   "source": [
    "## 4. check no blue pixel image result\n",
    "[Go back to the Table of Contents](#Table-of-Contents)"
   ]
  },
  {
   "cell_type": "code",
   "execution_count": null,
   "metadata": {},
   "outputs": [],
   "source": [
    "image = random.choice(unfilled_deed['path'].tolist())\n",
    "img = cv2.imread(image)\n",
    "img = cv2.cvtColor(img, cv2.COLOR_BGR2RGB)\n",
    "plt.rcParams[\"figure.figsize\"] = (20,20)\n",
    "plt.imshow(img)"
   ]
  },
  {
   "cell_type": "code",
   "execution_count": null,
   "metadata": {},
   "outputs": [],
   "source": []
  },
  {
   "cell_type": "code",
   "execution_count": null,
   "metadata": {},
   "outputs": [],
   "source": []
  },
  {
   "cell_type": "code",
   "execution_count": null,
   "metadata": {},
   "outputs": [],
   "source": []
  },
  {
   "cell_type": "code",
   "execution_count": null,
   "metadata": {},
   "outputs": [],
   "source": []
  }
 ],
 "metadata": {
  "kernelspec": {
   "display_name": "Python 3",
   "language": "python",
   "name": "python3"
  },
  "language_info": {
   "codemirror_mode": {
    "name": "ipython",
    "version": 3
   },
   "file_extension": ".py",
   "mimetype": "text/x-python",
   "name": "python",
   "nbconvert_exporter": "python",
   "pygments_lexer": "ipython3",
   "version": "3.7.9"
  }
 },
 "nbformat": 4,
 "nbformat_minor": 4
}
