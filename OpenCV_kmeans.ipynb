{
 "cells": [
  {
   "cell_type": "markdown",
   "metadata": {},
   "source": [
    "# Analysis Purpose\n",
    ">###  using kmeans to simplify image color"
   ]
  },
  {
   "cell_type": "markdown",
   "metadata": {},
   "source": [
    "## Table of Contents\n",
    "* [1. Import Packages](#1.-Import-Packages)\n",
    "* [2. Set Direction and Find the File Path](#2.-Set-Direction-and-Find-the-File-Path)\n",
    "* [3. model build by kmeans](#3.-model-build-by-kmeans)"
   ]
  },
  {
   "cell_type": "markdown",
   "metadata": {},
   "source": [
    "## 1. Import Packages   \n",
    "[Go back to the Table of Contents](#Table-of-Contents)"
   ]
  },
  {
   "cell_type": "code",
   "execution_count": 1,
   "metadata": {},
   "outputs": [],
   "source": [
    "import cv2\n",
    "import matplotlib.pyplot as plt\n",
    "import numpy as np\n",
    "from tqdm import tqdm\n",
    "from glob import glob"
   ]
  },
  {
   "cell_type": "markdown",
   "metadata": {},
   "source": [
    "## 2. Set Direction and Find the File Path\n",
    "[Go back to the Table of Contents](#Table-of-Contents)"
   ]
  },
  {
   "cell_type": "code",
   "execution_count": 2,
   "metadata": {},
   "outputs": [],
   "source": [
    "deed_name = ['AA', 'AD', 'AG', 'BA', 'BD', 'BG', 'EA', 'ED', 'EG', 'HA', 'HD',\n",
    "             'HG', 'LA', 'LG', 'PA', 'PG', 'QA', 'QG', 'RA', 'RG', 'UA', 'UD', 'UG', ]"
   ]
  },
  {
   "cell_type": "code",
   "execution_count": 3,
   "metadata": {},
   "outputs": [],
   "source": [
    "ok_file_name = ['P2_OK_P4', 'P3_OK_P4']"
   ]
  },
  {
   "cell_type": "code",
   "execution_count": 4,
   "metadata": {},
   "outputs": [],
   "source": [
    "ok_deed_dir = \"//Srvappweb-t/f$/{}/{}/\".format(deed_name[1], ok_file_name[1])"
   ]
  },
  {
   "cell_type": "code",
   "execution_count": 5,
   "metadata": {},
   "outputs": [],
   "source": [
    "ok_deed_dir_li = []\n",
    "for i in range(len(deed_name)):\n",
    "    for t in range(len(ok_file_name)):\n",
    "        ok_deed_dir = \"//Srvappweb-t/f$/{}/{}/\".format(deed_name[i], ok_file_name[t])\n",
    "        ok_deed_dir_li.append(ok_deed_dir)"
   ]
  },
  {
   "cell_type": "code",
   "execution_count": 6,
   "metadata": {},
   "outputs": [],
   "source": [
    "img_path_list = []\n",
    "for ok_deed_dir in ok_deed_dir_li:\n",
    "    for file_path in glob('{}/*.jpg'.format(ok_deed_dir)):\n",
    "        img_path_list.append(file_path)"
   ]
  },
  {
   "cell_type": "code",
   "execution_count": 7,
   "metadata": {},
   "outputs": [
    {
     "data": {
      "text/plain": [
       "'//Srvappweb-t/f$/AA/P2_OK_P4\\\\AB002-AA0769076.jpg'"
      ]
     },
     "execution_count": 7,
     "metadata": {},
     "output_type": "execute_result"
    }
   ],
   "source": [
    "img_path_list[0]"
   ]
  },
  {
   "cell_type": "code",
   "execution_count": 8,
   "metadata": {},
   "outputs": [
    {
     "name": "stdout",
     "output_type": "stream",
     "text": [
      "Number of ok deed: 69912\n"
     ]
    }
   ],
   "source": [
    "print(f'Number of ok deed: {len(img_path_list)}')"
   ]
  },
  {
   "cell_type": "markdown",
   "metadata": {},
   "source": [
    "## 3. model build by kmeans\n",
    "[Go back to the Table of Contents](#Table-of-Contents)"
   ]
  },
  {
   "cell_type": "code",
   "execution_count": null,
   "metadata": {},
   "outputs": [],
   "source": [
    "# 查看類別資料夾裡的資料\n",
    "result = []\n",
    "for i in tqdm(range(len(img_path_list))):\n",
    "    if i == 5:\n",
    "        break\n",
    "    # 讀取圖檔\n",
    "#     img_path_list = '//Srvappweb-t/f$/AA/P2_OK_P4\\\\AB047-AA0762605.jpg'\n",
    "    img_path = cv2.imread(img_path_list[i])\n",
    "    img = cv2.cvtColor(img_path, cv2.COLOR_BGR2RGB)\n",
    "\n",
    "\n",
    "\n",
    "    img = cv2.resize(img,(675, 900))\n",
    "\n",
    "\n",
    "    # 裁切區域的 x 與 y 座標（左上角）\n",
    "    x = 100\n",
    "    y = 30\n",
    "\n",
    "    # 裁切區域的長度與寬度\n",
    "    w = 525\n",
    "    h = 770\n",
    "\n",
    "    # 裁切圖片\n",
    "    cut_img = img[y:y+h, x:x+w]\n",
    "\n",
    "    Z = cut_img.reshape((-1,3))\n",
    "    # convert to matrix\n",
    "    Z = np.float32(Z)\n",
    "\n",
    "    criteria = (cv2.TERM_CRITERIA_EPS + cv2.TERM_CRITERIA_MAX_ITER, 10, 1.0)\n",
    "\n",
    "    K=5\n",
    "    ret, label1, center1 = cv2.kmeans(Z, K, None,\n",
    "                                      criteria, 10, cv2.KMEANS_RANDOM_CENTERS)\n",
    "    center1 = np.uint8(center1)\n",
    "    res1 = center1[label1.flatten()]\n",
    "    output1 = res1.reshape((cut_img.shape))\n",
    "\n",
    "\n",
    "    output = [cut_img, output1]\n",
    "    titles = ['Original Image', 'K=5']\n",
    "    plt.figure(figsize=(50,25))\n",
    "    for i in range(2):\n",
    "        plt.subplot(1, 2, i+1)\n",
    "        plt.imshow(output[i])\n",
    "        plt.title(titles[i])\n",
    "        plt.xticks([])\n",
    "        plt.yticks([])\n",
    "    plt.show()"
   ]
  },
  {
   "cell_type": "code",
   "execution_count": null,
   "metadata": {},
   "outputs": [],
   "source": []
  },
  {
   "cell_type": "code",
   "execution_count": null,
   "metadata": {},
   "outputs": [],
   "source": []
  }
 ],
 "metadata": {
  "kernelspec": {
   "display_name": "Python 3",
   "language": "python",
   "name": "python3"
  },
  "language_info": {
   "codemirror_mode": {
    "name": "ipython",
    "version": 3
   },
   "file_extension": ".py",
   "mimetype": "text/x-python",
   "name": "python",
   "nbconvert_exporter": "python",
   "pygments_lexer": "ipython3",
   "version": "3.7.9"
  }
 },
 "nbformat": 4,
 "nbformat_minor": 4
}
